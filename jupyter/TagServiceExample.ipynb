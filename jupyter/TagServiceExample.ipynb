{
 "cells": [
  {
   "cell_type": "markdown",
   "metadata": {},
   "source": [
    "<table>\n",
    "    <tr>\n",
    "        <td><img src='SystemLink_icon.png' /></td>\n",
    "        <td ><h1><strong>NI SystemLink Python API</strong></h1></td>\n",
    "    </tr>\n",
    "</table>\n",
    "\n",
    "## Tag Service Example\n",
    "***\n",
    "The Tag Service API provides functions to create, update, and query current values/metada of **SystemLink** tags.\n",
    "***\n",
    "# Prerequisites\n",
    "- None\n",
    "\n",
    "# Summary \n",
    "This example uses the Tag Service API to get the values of a few built-in tags used for monitoring system health.\n",
    "\n",
    "- Query the CPU, Memory and Disk usage (%) tags\n",
    "- Visualize the values in table format\n",
    "- Visualize the current, min and max values using error bars\n",
    "- Query the CPU usage (%) per CPU\n",
    "- Visualize the CPU usage"
   ]
  },
  {
   "cell_type": "code",
   "execution_count": null,
   "metadata": {},
   "outputs": [],
   "source": [
    "import matplotlib.pyplot as plt\n",
    "import numpy as np\n",
    "import pandas as pd\n",
    "\n",
    "from systemlink.tagclient import TagClient\n",
    "\n",
    "tagclient = TagClient(service_name='TagClient')\n",
    "tag_list = ['localhost.Health.CPU.MeanUsePercentage', 'localhost.Health.Memory.UsePercentage', 'localhost.Health.Disk.UsePercentage']\n",
    "\n",
    "# Get the tags for CPU, Memory and Disk usage (%)\n",
    "cpu_usage, memory_usage, disk_usage = tagclient.query_current_values(tag_list)"
   ]
  },
  {
   "cell_type": "markdown",
   "metadata": {},
   "source": [
    "# Visualize Resource Utilization (CPU, Memory, Disk)\n",
    "\n",
    "Format the current, mean, min and max values for each category in a **Pandas Dataframe**. Visualize the Dataframe as a table."
   ]
  },
  {
   "cell_type": "code",
   "execution_count": null,
   "metadata": {},
   "outputs": [],
   "source": [
    "# Visualize the tags values, in table format\n",
    "\n",
    "current_values = np.array([float(disk_usage.current.value.value), float(memory_usage.current.value.value), float(cpu_usage.current.value.value)])\n",
    "min_values = np.array([float(disk_usage.aggregates.min), float(memory_usage.aggregates.min), float(cpu_usage.aggregates.min)])\n",
    "max_values = np.array([float(disk_usage.aggregates.max), float(memory_usage.aggregates.max), float(cpu_usage.aggregates.max)])\n",
    "mean_values = np.array([float(disk_usage.aggregates.avg), float(memory_usage.aggregates.avg), float(cpu_usage.aggregates.avg)])\n",
    "\n",
    "df = pd.DataFrame([current_values, min_values, max_values, mean_values], columns=['CPU', 'Memory', 'Disk'], index=['Current', 'Min', 'Max', 'Mean'])\n",
    "df"
   ]
  },
  {
   "cell_type": "markdown",
   "metadata": {},
   "source": [
    "# Errorbar Plot\n",
    "Plot the tags current values, with error bars for the min/max values"
   ]
  },
  {
   "cell_type": "code",
   "execution_count": null,
   "metadata": {},
   "outputs": [],
   "source": [
    "# Visualize CPU, Disk and Memory usage (Min, Max, Current) in a graph\n",
    "\n",
    "plt.style.use('fivethirtyeight')\n",
    "plt.errorbar(['CPU', 'Memory', 'Disk'], current_values, [current_values - min_values, max_values - current_values],\n",
    "             fmt='mD', ecolor='blue', elinewidth=2, label=\"blah\", capsize=10, capthick=1.5)\n",
    "plt.title('System Monitor', weight='bold', size='15')\n",
    "plt.ylabel('Usage (%)', size='15')\n",
    "plt.show()"
   ]
  },
  {
   "cell_type": "markdown",
   "metadata": {},
   "source": [
    "# Bar Plot of CPU usage (per CPU)\n",
    "Get the per CPU utilization percentage, by querying each CPU UsePercentage tag. Plot the results."
   ]
  },
  {
   "cell_type": "code",
   "execution_count": null,
   "metadata": {},
   "outputs": [],
   "source": [
    "# Visualize CPU usage (%) per CPU\n",
    "\n",
    "bar_width = 0.4\n",
    "opacity = 0.4\n",
    "\n",
    "cpu_count = tagclient.query_current_values(['localhost.Health.CPU.Count'])\n",
    "num_cpus = int(cpu_count[0].current.value.value)\n",
    "\n",
    "cpu_tag_lst = ['localhost.Health.CPU.{}.UsePercentage'.format(i) for i in range(num_cpus)]\n",
    "cpu_tags = tagclient.query_current_values(cpu_tag_lst)\n",
    "\n",
    "cpu_usage_lst = [float(cpu.current.value.value) for cpu in cpu_tags]\n",
    "for idx, cpu_usage in enumerate(cpu_usage_lst):\n",
    "    plt.bar(idx, cpu_usage, bar_width, alpha=opacity, color='b', label=idx)\n",
    "\n",
    "plt.title('CPU Utilization', weight='bold', size='15')\n",
    "plt.xlabel('CPU Number', size='15')\n",
    "plt.ylabel('Usage (%)', size='15')\n",
    "plt.xticks(range(num_cpus), [str(i) for i in range(num_cpus)], size='15')\n",
    "plt.show()"
   ]
  }
 ],
 "metadata": {
  "kernelspec": {
   "display_name": "Python 3",
   "language": "python",
   "name": "python3"
  },
  "language_info": {
   "codemirror_mode": {
    "name": "ipython",
    "version": 3
   },
   "file_extension": ".py",
   "mimetype": "text/x-python",
   "name": "python",
   "nbconvert_exporter": "python",
   "pygments_lexer": "ipython3",
   "version": "3.7.1"
  }
 },
 "nbformat": 4,
 "nbformat_minor": 2
}
