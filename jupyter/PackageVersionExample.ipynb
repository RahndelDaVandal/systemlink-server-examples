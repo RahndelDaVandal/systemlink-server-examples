{
 "cells": [
  {
   "cell_type": "markdown",
   "id": "a4545ff3",
   "metadata": {},
   "source": [
    "### Imports\n",
    "Import Python modules for executing the notebook.  \n",
    " - Pandas is used for building and handling dataframes.  \n",
    " - Scrapbook is used for recording data for the Notebook Execution Service. \n",
    " - systems_api is an NI provided package for communicating with the SystemLink Systems service\n",
    " - query_systems_request is an NI provided package for building queries to the SystemLink Systems service"
   ]
  },
  {
   "cell_type": "code",
   "execution_count": null,
   "id": "b68d2d7b",
   "metadata": {},
   "outputs": [],
   "source": [
    "import pandas as pd\n",
    "import scrapbook as sb\n",
    "\n",
    "from systemlink.clients.nisysmgmt.api.systems_api import SystemsApi\n",
    "from systemlink.clients.nisysmgmt.models.query_systems_request import QuerySystemsRequest"
   ]
  },
  {
   "cell_type": "markdown",
   "id": "ca4d7fda",
   "metadata": {},
   "source": [
    "### Parameters\n",
    " - `group_by`: The property by which data is grouped. This is unused in this simple example, but for the data to be available as a column in the Systems Grid, we must at minimum support 'System' here. Other data groupings could be used for multi-purpose notebooks.  \n",
    " - `package`: The Package Name of the software you would like to display the version of in the Systems Grid.\n",
    " - `systems_filter`: A filter, as provided to the http API, that specifies which systems to validate against the input state. An empty filter will match all systems.\n",
    "\n",
    "Parameters are also listed in the metadata for the parameters cell, along with their default values.\n",
    "To see the metadata, select the code cell below and click the wrench icon in the far right panel."
   ]
  },
  {
   "cell_type": "code",
   "execution_count": null,
   "id": "837b9dd1",
   "metadata": {
    "papermill": {
     "parameters": {
      "group_by": "System",
      "package": "",
      "systems_filter": ""
     }
    },
    "systemlink": {
     "namespaces": [],
     "outputs": [
      {
       "display_name": "Package Version",
       "id": "package_version",
       "type": "data_frame"
      }
     ],
     "parameters": [
      {
       "display_name": "Group by",
       "id": "group_by",
       "type": "string"
      },
      {
       "display_name": "Package",
       "id": "package",
       "type": "string"
      },
      {
       "display_name": "Systems Filter",
       "id": "systems_filter",
       "type": "string"
      }
     ],
     "version": 2
    },
    "tags": [
     "parameters"
    ]
   },
   "outputs": [],
   "source": [
    "group_by = \"System\"\n",
    "package = \"\"\n",
    "systems_filter = \"\""
   ]
  },
  {
   "cell_type": "markdown",
   "id": "1ee40707",
   "metadata": {},
   "source": [
    "### Query for Systems with the specified package and get the Package Version on each system"
   ]
  },
  {
   "cell_type": "code",
   "execution_count": null,
   "id": "53dbe0c3",
   "metadata": {},
   "outputs": [],
   "source": [
    "api = SystemsApi()\n",
    "\n",
    "projection = f\"new(id, packages.data[\\\"{package}\\\"].displayversion, packages.data[\\\"{package}\\\"].version)\"\n",
    "filter = (systems_filter or \"!string.IsNullOrEmpty(id)\") + f\" && packages.data.keys.Contains(\\\"{package}\\\")\"\n",
    "\n",
    "query_sys_request = QuerySystemsRequest(skip=0, projection=projection, filter=filter)\n",
    "query_result = api.get_systems_by_query(query=query_sys_request)\n",
    "data = await query_result"
   ]
  },
  {
   "cell_type": "markdown",
   "id": "c84ee9d2",
   "metadata": {},
   "source": [
    "### Extract Package data from query results and create pandas dataframe"
   ]
  },
  {
   "cell_type": "code",
   "execution_count": null,
   "id": "e0014a70",
   "metadata": {},
   "outputs": [],
   "source": [
    "pkg_version = { item['id'] : item['displayversion'] for item in data.data }\n",
    "df = pd.DataFrame.from_dict(pkg_version, orient='index', columns=['Package Version'])\n",
    "df"
   ]
  },
  {
   "cell_type": "markdown",
   "id": "ede0c1a9",
   "metadata": {},
   "source": [
    "### Convert dataframe to result format that the Systems Grid can interpret"
   ]
  },
  {
   "cell_type": "code",
   "execution_count": null,
   "id": "18804fad",
   "metadata": {},
   "outputs": [],
   "source": [
    "df_dict = {\n",
    "    'columns': ['minion id', 'package version'],\n",
    "    'values': df.reset_index().values.tolist()\n",
    "}\n",
    "\n",
    "result = [{\n",
    "    \"display_name\": \"Package Version\",\n",
    "    \"id\": 'package_version',\n",
    "    \"type\": 'data_frame',\n",
    "    \"data\": df_dict\n",
    "}]\n",
    "\n",
    "sb.glue('result', result)"
   ]
  },
  {
   "cell_type": "markdown",
   "id": "ea3fcfc9",
   "metadata": {},
   "source": [
    "### View the output of this report in the Systems Grid (SystemLink 2021 R2 and later)\n",
    "1. On your SystemLink Server, ensure the NI SystemLink Server - JupyterHub Module is installed\n",
    "1. In SystemLink, navigate to Utilities -> Jupyter, and create a folder named 'reports' if it does not already exist\n",
    "1. Upload this notebook to the reports folder\n",
    "1. From the Systems page, press the edit grid button in the upper-right section of the grid area\n",
    "1. Press the '+ ADD' button to add a new column, and select 'Notebook' as the data source\n",
    "1. Select this report in the Path field ([your_username]/reports/PackageVersion.ipynb)\n",
    "1. In the Output field, select 'Package Version'\n",
    "1. In the Package field, enter the name of the package you'd like to display the version of (eg. ni-daqmx, ni-teststand-2019)\n",
    "   1. This can be found in the header of the hover text of the package in NIPM\n",
    "   1. It can also be found in the Installed Software tab of a System in SystemLink by showing the Package Name column\n",
    "1. Select an appropriate Update interval for your needs (5 min to 24 hours)\n",
    "1. Enter an appropriate Column name (ex. 'DAQmx Version') and press Done"
   ]
  }
 ],
 "metadata": {
  "kernelspec": {
   "display_name": "Python 3",
   "language": "python",
   "name": "python3"
  },
  "language_info": {
   "codemirror_mode": {
    "name": "ipython",
    "version": 3
   },
   "file_extension": ".py",
   "mimetype": "text/x-python",
   "name": "python",
   "nbconvert_exporter": "python",
   "pygments_lexer": "ipython3",
   "version": "3.8.5"
  }
 },
 "nbformat": 4,
 "nbformat_minor": 5
}
