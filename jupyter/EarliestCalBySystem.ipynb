{
 "cells": [
  {
   "cell_type": "markdown",
   "source": [
    "# Earliest Calibration Date by System"
   ],
   "metadata": {}
  },
  {
   "cell_type": "markdown",
   "source": [
    "### Imports\n",
    "Import Python modules for executing the notebook. Pandas is used for building and handling dataframes. Scrapbook is used for recording data for the Notebook Execution Service."
   ],
   "metadata": {}
  },
  {
   "cell_type": "code",
   "execution_count": 1,
   "source": [
    "import pandas as pd\r\n",
    "import scrapbook as sb\r\n",
    "\r\n",
    "from datetime import datetime\r\n",
    "\r\n",
    "from systemlink.clients.niapm import AssetsApi, QueryAssetsRequest"
   ],
   "outputs": [],
   "metadata": {}
  },
  {
   "cell_type": "markdown",
   "source": [
    "### Parameters\r\n",
    "- `group_by`: The property by which data is grouped. This is unused in this simple example, but for the data to be available as a column in the Systems Grid, we must at minimum support 'System' here. Other data groupings could be used for multi-purpose notebooks.\r\n",
    "\r\n",
    "Parameters are also listed in the metadata for the parameters cell, along with their default values.\r\n",
    "To see the metadata, select the code cell below and click the wrench icon in the far left panel."
   ],
   "metadata": {}
  },
  {
   "cell_type": "code",
   "execution_count": 2,
   "source": [
    "group_by = 'System'"
   ],
   "outputs": [],
   "metadata": {
    "papermill": {
     "parameters": {
      "group_by": "System"
     }
    },
    "systemlink": {
     "namespaces": [],
     "outputs": [
      {
       "display_name": "Earliest calibration date by system",
       "id": "earliest_cal_by_system",
       "type": "data_frame"
      }
     ],
     "parameters": [
      {
       "display_name": "Group by",
       "id": "group_by",
       "type": "string"
      }
     ],
     "version": 2
    },
    "tags": [
     "parameters"
    ]
   }
  },
  {
   "cell_type": "markdown",
   "source": [
    "### Query for assets\n",
    "Query the Asset Service for all assets that support external calibration then create a list of all assets with Calibration and Location data."
   ],
   "metadata": {}
  },
  {
   "cell_type": "code",
   "execution_count": 3,
   "source": [
    "assets_api = AssetsApi()\r\n",
    "query_result = await assets_api.query_assets(query_assets=QueryAssetsRequest(filter='SupportsExternalCalibration = true'))\r\n",
    "results = [asset for asset in query_result.assets if asset.external_calibration is not None and asset.location.minion_id != '']"
   ],
   "outputs": [],
   "metadata": {}
  },
  {
   "cell_type": "markdown",
   "source": [
    "### Calculate earliest asset calibration date for each system and create pandas dataframe"
   ],
   "metadata": {}
  },
  {
   "cell_type": "code",
   "execution_count": 4,
   "source": [
    "earliest_cal = {}\r\n",
    "\r\n",
    "# create an entry in in the earliest_cal dict for each asset with the minion_id as the key. On collision, take the earlier date value.\r\n",
    "for asset in results:\r\n",
    "    if asset.location.minion_id not in earliest_cal:\r\n",
    "        earliest_cal[asset.location.minion_id] = asset.external_calibration.next_recommended_date\r\n",
    "    else:\r\n",
    "        earliest_cal[asset.location.minion_id] = earliest_cal[asset.location.minion_id] if earliest_cal[asset.location.minion_id] < asset.external_calibration.next_recommended_date else asset.external_calibration.next_recommended_date\r\n",
    "        \r\n",
    "# Create a dataframe from the earliest_cal dict and display results here\r\n",
    "df = pd.DataFrame.from_dict(earliest_cal, orient='index', columns=['Earliest Calibration Date'])\r\n",
    "df"
   ],
   "outputs": [
    {
     "output_type": "execute_result",
     "data": {
      "text/plain": [
       "                                                   Earliest Calibration Date\n",
       "NI_cRIO-9042--SN-01E10AB8--MAC-00-80-2F-24-FB-CE   2022-06-19 17:00:00+00:00\n",
       "Precision_3630_Tower--SN-516VCV2--MAC-B8-85-84-... 2021-10-15 17:00:00+00:00\n",
       "NI_cRIO-9042--SN-01E10AB4--MAC-00-80-2F-24-FB-C2   2022-06-19 17:00:00+00:00\n",
       "NI_PXIe-8135_Embedded_Controller--MAC-00-80-2F-... 2019-10-19 06:37:14+00:00\n",
       "NI_PXIe-8135_Embedded_Controller--MAC-00-80-2F-... 2020-03-14 13:54:16+00:00\n",
       "Precision_3630_Tower--SN-518TCV2--MAC-B8-85-84-... 2016-04-05 13:55:27+00:00\n",
       "NI_cRIO-9042--SN-01E10AC1--MAC-00-80-2F-24-FB-E9   2022-06-19 17:00:00+00:00\n",
       "NI_PXIe-8880--SN-030D0A62--MAC-00-80-2F-23-F1-D5   2013-12-04 06:00:00+00:00\n",
       "Battery_Tester--SN-123456--MAC-34-17-EB-E2-43-C0   2007-12-04 16:27:06+00:00\n",
       "MS-7C37--MAC-2C-F0-5D-28-17-81                     2014-08-23 09:31:38+00:00\n",
       "OptiPlex_5060--SN-8LR17T2--MAC-8C-EC-4B-98-85-7A   2022-04-16 17:00:00+00:00\n",
       "NI_PXIe-8880--SN-0315BCD3--MAC-00-80-2F-22-47-94   2012-04-01 13:14:26+00:00\n",
       "NI_PXIe-8880--SN-0318D617--MAC-00-80-2F-24-CB-D4   2015-06-18 09:18:52+00:00\n",
       "NI_PXIe-8135_Embedded_Controller--MAC-00-80-2F-... 2022-06-19 17:00:00+00:00\n",
       "VMware_Virtual_Platform--SN-VMware-56_4d_89_ba_... 2022-05-01 05:00:00+00:00"
      ],
      "text/html": [
       "<div>\n",
       "<style scoped>\n",
       "    .dataframe tbody tr th:only-of-type {\n",
       "        vertical-align: middle;\n",
       "    }\n",
       "\n",
       "    .dataframe tbody tr th {\n",
       "        vertical-align: top;\n",
       "    }\n",
       "\n",
       "    .dataframe thead th {\n",
       "        text-align: right;\n",
       "    }\n",
       "</style>\n",
       "<table border=\"1\" class=\"dataframe\">\n",
       "  <thead>\n",
       "    <tr style=\"text-align: right;\">\n",
       "      <th></th>\n",
       "      <th>Earliest Calibration Date</th>\n",
       "    </tr>\n",
       "  </thead>\n",
       "  <tbody>\n",
       "    <tr>\n",
       "      <th>NI_cRIO-9042--SN-01E10AB8--MAC-00-80-2F-24-FB-CE</th>\n",
       "      <td>2022-06-19 17:00:00+00:00</td>\n",
       "    </tr>\n",
       "    <tr>\n",
       "      <th>Precision_3630_Tower--SN-516VCV2--MAC-B8-85-84-BB-67-ED</th>\n",
       "      <td>2021-10-15 17:00:00+00:00</td>\n",
       "    </tr>\n",
       "    <tr>\n",
       "      <th>NI_cRIO-9042--SN-01E10AB4--MAC-00-80-2F-24-FB-C2</th>\n",
       "      <td>2022-06-19 17:00:00+00:00</td>\n",
       "    </tr>\n",
       "    <tr>\n",
       "      <th>NI_PXIe-8135_Embedded_Controller--MAC-00-80-2F-24-66-EB</th>\n",
       "      <td>2019-10-19 06:37:14+00:00</td>\n",
       "    </tr>\n",
       "    <tr>\n",
       "      <th>NI_PXIe-8135_Embedded_Controller--MAC-00-80-2F-26-2A-6D</th>\n",
       "      <td>2020-03-14 13:54:16+00:00</td>\n",
       "    </tr>\n",
       "    <tr>\n",
       "      <th>Precision_3630_Tower--SN-518TCV2--MAC-B8-85-84-BB-C1-67</th>\n",
       "      <td>2016-04-05 13:55:27+00:00</td>\n",
       "    </tr>\n",
       "    <tr>\n",
       "      <th>NI_cRIO-9042--SN-01E10AC1--MAC-00-80-2F-24-FB-E9</th>\n",
       "      <td>2022-06-19 17:00:00+00:00</td>\n",
       "    </tr>\n",
       "    <tr>\n",
       "      <th>NI_PXIe-8880--SN-030D0A62--MAC-00-80-2F-23-F1-D5</th>\n",
       "      <td>2013-12-04 06:00:00+00:00</td>\n",
       "    </tr>\n",
       "    <tr>\n",
       "      <th>Battery_Tester--SN-123456--MAC-34-17-EB-E2-43-C0</th>\n",
       "      <td>2007-12-04 16:27:06+00:00</td>\n",
       "    </tr>\n",
       "    <tr>\n",
       "      <th>MS-7C37--MAC-2C-F0-5D-28-17-81</th>\n",
       "      <td>2014-08-23 09:31:38+00:00</td>\n",
       "    </tr>\n",
       "    <tr>\n",
       "      <th>OptiPlex_5060--SN-8LR17T2--MAC-8C-EC-4B-98-85-7A</th>\n",
       "      <td>2022-04-16 17:00:00+00:00</td>\n",
       "    </tr>\n",
       "    <tr>\n",
       "      <th>NI_PXIe-8880--SN-0315BCD3--MAC-00-80-2F-22-47-94</th>\n",
       "      <td>2012-04-01 13:14:26+00:00</td>\n",
       "    </tr>\n",
       "    <tr>\n",
       "      <th>NI_PXIe-8880--SN-0318D617--MAC-00-80-2F-24-CB-D4</th>\n",
       "      <td>2015-06-18 09:18:52+00:00</td>\n",
       "    </tr>\n",
       "    <tr>\n",
       "      <th>NI_PXIe-8135_Embedded_Controller--MAC-00-80-2F-21-C6-6E</th>\n",
       "      <td>2022-06-19 17:00:00+00:00</td>\n",
       "    </tr>\n",
       "    <tr>\n",
       "      <th>VMware_Virtual_Platform--SN-VMware-56_4d_89_ba_b2_02_7c_1a-0a_6d_c7_f7_ce_a6_89_23--MAC-00-0C-29-A6-89-23</th>\n",
       "      <td>2022-05-01 05:00:00+00:00</td>\n",
       "    </tr>\n",
       "  </tbody>\n",
       "</table>\n",
       "</div>"
      ]
     },
     "metadata": {},
     "execution_count": 4
    }
   ],
   "metadata": {}
  },
  {
   "cell_type": "markdown",
   "source": [
    "### Convert the dataframe to the SystemLink reports output format"
   ],
   "metadata": {}
  },
  {
   "cell_type": "code",
   "execution_count": 5,
   "source": [
    "df_dict = {\r\n",
    "    'columns': ['minion id', 'earliest calibration date'],\r\n",
    "    'values': df.reset_index().values.tolist()\r\n",
    "}\r\n",
    "\r\n",
    "result = [{\r\n",
    "    \"display_name\": \"Earliest calibration date by system\",\r\n",
    "    \"id\": 'earliest_cal_by_system',\r\n",
    "    \"type\": 'data_frame',\r\n",
    "    \"data\": df_dict\r\n",
    "}]"
   ],
   "outputs": [],
   "metadata": {}
  },
  {
   "cell_type": "code",
   "execution_count": 6,
   "source": [
    "sb.glue('result', result)"
   ],
   "outputs": [
    {
     "output_type": "display_data",
     "data": {
      "application/scrapbook.scrap.json+json": {
       "data": [
        {
         "data": {
          "columns": [
           "minion id",
           "earliest calibration date"
          ],
          "values": [
           [
            "NI_cRIO-9042--SN-01E10AB8--MAC-00-80-2F-24-FB-CE",
            "2022-06-19T17:00:00.000000"
           ],
           [
            "Precision_3630_Tower--SN-516VCV2--MAC-B8-85-84-BB-67-ED",
            "2021-10-15T17:00:00.000000"
           ],
           [
            "NI_cRIO-9042--SN-01E10AB4--MAC-00-80-2F-24-FB-C2",
            "2022-06-19T17:00:00.000000"
           ],
           [
            "NI_PXIe-8135_Embedded_Controller--MAC-00-80-2F-24-66-EB",
            "2019-10-19T06:37:14.000000"
           ],
           [
            "NI_PXIe-8135_Embedded_Controller--MAC-00-80-2F-26-2A-6D",
            "2020-03-14T13:54:16.000000"
           ],
           [
            "Precision_3630_Tower--SN-518TCV2--MAC-B8-85-84-BB-C1-67",
            "2016-04-05T13:55:27.000000"
           ],
           [
            "NI_cRIO-9042--SN-01E10AC1--MAC-00-80-2F-24-FB-E9",
            "2022-06-19T17:00:00.000000"
           ],
           [
            "NI_PXIe-8880--SN-030D0A62--MAC-00-80-2F-23-F1-D5",
            "2013-12-04T06:00:00.000000"
           ],
           [
            "Battery_Tester--SN-123456--MAC-34-17-EB-E2-43-C0",
            "2007-12-04T16:27:06.000000"
           ],
           [
            "MS-7C37--MAC-2C-F0-5D-28-17-81",
            "2014-08-23T09:31:38.000000"
           ],
           [
            "OptiPlex_5060--SN-8LR17T2--MAC-8C-EC-4B-98-85-7A",
            "2022-04-16T17:00:00.000000"
           ],
           [
            "NI_PXIe-8880--SN-0315BCD3--MAC-00-80-2F-22-47-94",
            "2012-04-01T13:14:26.000000"
           ],
           [
            "NI_PXIe-8880--SN-0318D617--MAC-00-80-2F-24-CB-D4",
            "2015-06-18T09:18:52.000000"
           ],
           [
            "NI_PXIe-8135_Embedded_Controller--MAC-00-80-2F-21-C6-6E",
            "2022-06-19T17:00:00.000000"
           ],
           [
            "VMware_Virtual_Platform--SN-VMware-56_4d_89_ba_b2_02_7c_1a-0a_6d_c7_f7_ce_a6_89_23--MAC-00-0C-29-A6-89-23",
            "2022-05-01T05:00:00.000000"
           ]
          ]
         },
         "display_name": "Earliest calibration date by system",
         "id": "earliest_cal_by_system",
         "type": "data_frame"
        }
       ],
       "encoder": "json",
       "name": "result",
       "version": 1
      }
     },
     "metadata": {
      "scrapbook": {
       "data": true,
       "display": false,
       "name": "result"
      }
     }
    }
   ],
   "metadata": {}
  },
  {
   "cell_type": "markdown",
   "source": [
    "### View the output of this report in the Systems Grid (SystemLink 2021 R2 and later)\n",
    "1. On your SystemLink Server, ensure the NI SystemLink Server - JupyterHub Module is installed\n",
    "1. In SystemLink, navigate to Utilities -> Jupyter, and create a folder named 'reports' if it does not already exist\n",
    "1. Upload this notebook to the reports folder\n",
    "1. From the Systems page, press the edit grid button in the upper-right section of the grid area\n",
    "1. Press the '+ ADD' button to add a new column, and select 'Notebook' as the data source\n",
    "1. Select this report in the Path field ([your_username]/reports/EarliestCalBySystem.ipynb)\n",
    "1. In the Output field, select 'Earliest calibration date by system'\n",
    "1. Select an appropriate Update interval for your needs (5 min to 24 hours)\n",
    "1. Enter an appropriate Column name (ex. 'Next Cal Date') and press Done\n"
   ],
   "metadata": {}
  }
 ],
 "metadata": {
  "kernelspec": {
   "display_name": "Python 3",
   "language": "python",
   "name": "python3"
  },
  "language_info": {
   "codemirror_mode": {
    "name": "ipython",
    "version": 3
   },
   "file_extension": ".py",
   "mimetype": "text/x-python",
   "name": "python",
   "nbconvert_exporter": "python",
   "pygments_lexer": "ipython3",
   "version": "3.8.5"
  }
 },
 "nbformat": 4,
 "nbformat_minor": 4
}