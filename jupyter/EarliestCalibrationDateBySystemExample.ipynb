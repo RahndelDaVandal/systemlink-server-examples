{
 "cells": [
  {
   "cell_type": "markdown",
   "metadata": {},
   "source": [
    "# Earliest Asset Calibration Date by System"
   ]
  },
  {
   "cell_type": "markdown",
   "metadata": {},
   "source": [
    "### Imports\n",
    "Import Python modules for executing the notebook. Pandas is used for building and handling dataframes. Scrapbook is used for recording data for the Notebook Execution Service."
   ]
  },
  {
   "cell_type": "code",
   "execution_count": null,
   "metadata": {},
   "outputs": [],
   "source": [
    "import pandas as pd\n",
    "import scrapbook as sb\n",
    "\n",
    "from datetime import datetime\n",
    "\n",
    "from systemlink.clients.niapm import AssetsApi, QueryAssetsRequest"
   ]
  },
  {
   "cell_type": "markdown",
   "metadata": {},
   "source": [
    "### Parameters\n",
    "- `group_by`: The property by which data is grouped. This is unused in this simple example, but for the data to be available as a column in the Systems Grid, we must at minimum support 'System' here. Other data groupings could be used for multi-purpose notebooks.\n",
    "\n",
    "Parameters are also listed in the metadata for the parameters cell, along with their default values.\n",
    "To see the metadata, select the code cell below and click the wrench icon in the far left panel."
   ]
  },
  {
   "cell_type": "code",
   "execution_count": null,
   "metadata": {
    "papermill": {
     "parameters": {
      "group_by": "System"
     }
    },
    "systemlink": {
     "namespaces": [],
     "outputs": [
      {
       "display_name": "Earliest calibration date by system",
       "id": "earliest_cal_by_system",
       "type": "data_frame"
      }
     ],
     "parameters": [
      {
       "display_name": "Group by",
       "id": "group_by",
       "type": "string"
      }
     ],
     "version": 2
    },
    "tags": [
     "parameters"
    ]
   },
   "outputs": [],
   "source": [
    "group_by = 'System'"
   ]
  },
  {
   "cell_type": "markdown",
   "metadata": {},
   "source": [
    "### Query for assets\n",
    "Query the Asset Service for all assets that support external calibration then create a list of all assets with Calibration and Location data."
   ]
  },
  {
   "cell_type": "code",
   "execution_count": null,
   "metadata": {},
   "outputs": [],
   "source": [
    "assets_api = AssetsApi()\n",
    "query_result = await assets_api.query_assets(query_assets=QueryAssetsRequest(filter='SupportsExternalCalibration = true'))\n",
    "results = [asset for asset in query_result.assets if asset.external_calibration is not None and asset.location.minion_id != '']"
   ]
  },
  {
   "cell_type": "markdown",
   "metadata": {},
   "source": [
    "### Calculate earliest asset calibration date for each system and create pandas dataframe"
   ]
  },
  {
   "cell_type": "code",
   "execution_count": null,
   "metadata": {},
   "outputs": [],
   "source": [
    "earliest_cal = {}\n",
    "\n",
    "# create an entry in in the earliest_cal dict for each asset with the minion_id as the key. On collision, take the earlier date value.\n",
    "for asset in results:\n",
    "    if asset.location.minion_id not in earliest_cal:\n",
    "        earliest_cal[asset.location.minion_id] = asset.external_calibration.next_recommended_date\n",
    "    else:\n",
    "        earliest_cal[asset.location.minion_id] = earliest_cal[asset.location.minion_id] if earliest_cal[asset.location.minion_id] < asset.external_calibration.next_recommended_date else asset.external_calibration.next_recommended_date\n",
    "        \n",
    "# Create a dataframe from the earliest_cal dict and display results here\n",
    "df = pd.DataFrame.from_dict(earliest_cal, orient='index', columns=['Earliest Calibration Date'])\n",
    "df"
   ]
  },
  {
   "cell_type": "markdown",
   "metadata": {},
   "source": [
    "### Convert the dataframe to the SystemLink reports output format"
   ]
  },
  {
   "cell_type": "code",
   "execution_count": null,
   "metadata": {},
   "outputs": [],
   "source": [
    "df_dict = {\n",
    "    'columns': ['minion id', 'earliest calibration date'],\n",
    "    'values': df.reset_index().values.tolist()\n",
    "}\n",
    "\n",
    "result = [{\n",
    "    \"display_name\": \"Earliest calibration date by system\",\n",
    "    \"id\": 'earliest_cal_by_system',\n",
    "    \"type\": 'data_frame',\n",
    "    \"data\": df_dict\n",
    "}]"
   ]
  },
  {
   "cell_type": "code",
   "execution_count": null,
   "metadata": {},
   "outputs": [],
   "source": [
    "sb.glue('result', result)"
   ]
  },
  {
   "cell_type": "markdown",
   "metadata": {},
   "source": [
    "### View the output of this report in the Systems Grid (SystemLink 2021 R2 and later)\n",
    "1. On your SystemLink Server, ensure the NI SystemLink Server - JupyterHub Module is installed\n",
    "1. In SystemLink, navigate to Utilities -> Jupyter, and create a folder named 'reports' if it does not already exist\n",
    "1. Upload this notebook to the reports folder\n",
    "1. From the Systems page, press the edit grid button in the upper-right section of the grid area\n",
    "1. Press the '+ ADD' button to add a new column, and select 'Notebook' as the data source\n",
    "1. Select this report in the Path field ([your_username]/reports/EarliestCalBySystem.ipynb)\n",
    "1. In the Output field, select 'Earliest calibration date by system'\n",
    "1. Select an appropriate Update interval for your needs (5 min to 24 hours)\n",
    "1. Enter an appropriate Column name (ex. 'Next Cal Date') and press Done\n"
   ]
  }
 ],
 "metadata": {
  "kernelspec": {
   "display_name": "Python 3",
   "language": "python",
   "name": "python3"
  },
  "language_info": {
   "codemirror_mode": {
    "name": "ipython",
    "version": 3
   },
   "file_extension": ".py",
   "mimetype": "text/x-python",
   "name": "python",
   "nbconvert_exporter": "python",
   "pygments_lexer": "ipython3",
   "version": "3.8.5"
  }
 },
 "nbformat": 4,
 "nbformat_minor": 4
}
