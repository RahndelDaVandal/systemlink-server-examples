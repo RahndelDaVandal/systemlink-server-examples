{
 "cells": [
  {
   "cell_type": "markdown",
   "metadata": {},
   "source": [
    "<table>\n",
    "    <tr>\n",
    "        <td><img src='SystemLink_icon.png' /></td>\n",
    "        <td ><h1><strong>NI SystemLink Python API</strong></h1></td>\n",
    "    </tr>\n",
    "</table>\n",
    "\n",
    "## TDMReader Service Example\n",
    "***\n",
    "The TDMReader Service API provides functions to access TDMS data (Groups, Channels, Metadata) in TDMS files hosted by **SystemLink**. The TDMReader Service API uses the file id as a key to locate which file to read. The file id can be retrieved using the File Service API.\n",
    "***\n",
    "# Prerequisites\n",
    "- Before you run this example, you need to create the test file (sine_wave_sdk_example.tdms)\n",
    "    - To do that, run the FileServiceExample notebook located in the same folder as this file.\n",
    "\n",
    "# Summary\n",
    "This example exercises the File Service API to get the file id of the test file created by the FileServiceExample notebook. The file id is then consumed by the TDMReader Service API to read the Sine Waves stored on the file, which have noise. Finally, the waveforms are plotted.\n",
    "\n",
    "- Get the file id of 'sine_wave_sdk_example.tdms' calling the **query_files** File Service API call\n",
    "- Get all the channels from group 'signals' on the test file, by calling the **query_data** TDMReader API call\n",
    "- Plot all the channels\n",
    "- Plot a waveform with the mean values, visualizing the max/min\n",
    "***"
   ]
  },
  {
   "cell_type": "code",
   "execution_count": null,
   "metadata": {},
   "outputs": [],
   "source": [
    "import matplotlib.pyplot as plt\n",
    "import numpy as np\n",
    "\n",
    "from systemlink.fileingestionclient import FileIngestionClient, messages as fileingestion_messages\n",
    "from systemlink.tdmsreaderclient import TDMSReaderClient, messages as tdmsreader_messages\n",
    "\n",
    "file_name = 'sine_wave_sdk_example.tdms'\n",
    "group_name = 'signals'\n",
    "\n",
    "fileingestionclient = FileIngestionClient(service_name='FileIngestionClient')\n",
    "tdmsreaderclient = TDMSReaderClient(service_name='TDMSReaderClient')\n",
    "\n",
    "# Use the File Service API to get the fileid of sine_wave_sdk_example.tdms\n",
    "equal_op = fileingestion_messages.QueryOperator(fileingestion_messages.QueryOperator.EQUAL)\n",
    "query = fileingestion_messages.StringQueryEntry('Name', file_name, equal_op)\n",
    "res = fileingestionclient.query_files(properties_query=[query])\n",
    "\n",
    "num_files = len(res.available_files)\n",
    "\n",
    "if num_files == 0:\n",
    "    raise RuntimeError('You need to run the example notebook FileServiceExample.ipynb to upload the test file needed by this example')\n",
    "elif num_files > 1:\n",
    "    raise RuntimeError('You have more than one file in SystemLink named {}, aborting'.format(file_name))\n",
    "else:\n",
    "    # Get all the Sine Wave signals inside sine_wave_sdk_example.tdms\n",
    "    file_id = res.available_files[0].id\n",
    "    limits = tdmsreader_messages.SkipTakeReturnCount(skip_=0, take_=-1, return_count_=True)\n",
    "    channels = tdmsreaderclient.get_channels(file_id, group_name, limits)\n",
    "\n",
    "    sine_waves = []\n",
    "    for channel_name in channels.names:\n",
    "        channel_specifier = tdmsreader_messages.OneChannelSpecifier(\n",
    "            file_id_=file_id,\n",
    "            group_name_=group_name,\n",
    "            channel_name_=channel_name)\n",
    "        \n",
    "        data_window = tdmsreader_messages.DataWindow(\n",
    "            xmin_=0,\n",
    "            xmax_=1000,\n",
    "            xlog_=False,\n",
    "            ymin_=0,\n",
    "            ymax_=1000,\n",
    "            ylog_=False,\n",
    "            decimatex_=0,\n",
    "            decimatey_=0,\n",
    "            show_points_=False,\n",
    "            show_lines_=False)\n",
    "        xy_channels = tdmsreader_messages.XYChannels(\n",
    "            xchannel_=None,\n",
    "            ychannels_=[channel_specifier],\n",
    "            data_window_=data_window)\n",
    "        channel_spec = tdmsreader_messages.ChannelSpecifications(xy_channels_=[xy_channels])\n",
    "        sine_wave = tdmsreaderclient.query_data(channel_spec)\n",
    "        sine_waves.append(np.array(sine_wave.data[0].y[0].numeric_data))"
   ]
  },
  {
   "cell_type": "markdown",
   "metadata": {},
   "source": [
    "# Sine Wave Visualization\n",
    "\n",
    "Plot the 10 Sine Waves at the same time. The resulting graph shows how the Sine Waves in the tdms file are very noisy."
   ]
  },
  {
   "cell_type": "code",
   "execution_count": null,
   "metadata": {},
   "outputs": [],
   "source": [
    "# Plot all the noisy sine waves\n",
    "\n",
    "plt.style.use('fivethirtyeight')\n",
    "\n",
    "fig = plt.figure(figsize=(20, 10))\n",
    "x = np.linspace(1, 1000, 1000)\n",
    "for i in range(10):\n",
    "    plt.plot(x, sine_waves[i])\n",
    "plt.show()"
   ]
  },
  {
   "cell_type": "markdown",
   "metadata": {},
   "source": [
    "# Mean Sine Wave with Variance\n",
    "\n",
    "Next, we calculate the sine wave's mean and plot it. We calculate the max and min values for every point and we plot those too, filling the area between the mean and the min/max. The resulting graph give a richer visualization of the variance between sine wave signals.\n"
   ]
  },
  {
   "cell_type": "code",
   "execution_count": null,
   "metadata": {},
   "outputs": [],
   "source": [
    "# Plot the sine wave's mean, with the min/max values\n",
    "\n",
    "mean_sine_wave = np.mean(sine_waves, axis=0)\n",
    "max_sine_wav = np.max(sine_waves, axis=0)\n",
    "min_sine_wav = np.min(sine_waves, axis=0)\n",
    "\n",
    "fig = plt.figure(figsize=(20, 10))\n",
    "plt.plot(x, mean_sine_wave)\n",
    "plt.fill_between(x, min_sine_wav, max_sine_wav, color='red', alpha=0.2)\n",
    "plt.show()"
   ]
  },
  {
   "cell_type": "code",
   "execution_count": null,
   "metadata": {},
   "outputs": [],
   "source": []
  }
 ],
 "metadata": {
  "kernelspec": {
   "display_name": "Python 3",
   "language": "python",
   "name": "python3"
  },
  "language_info": {
   "codemirror_mode": {
    "name": "ipython",
    "version": 3
   },
   "file_extension": ".py",
   "mimetype": "text/x-python",
   "name": "python",
   "nbconvert_exporter": "python",
   "pygments_lexer": "ipython3",
   "version": "3.7.1"
  }
 },
 "nbformat": 4,
 "nbformat_minor": 2
}
